{
  "cells": [
    {
      "cell_type": "markdown",
      "metadata": {
        "id": "view-in-github",
        "colab_type": "text"
      },
      "source": [
        "<a href=\"https://colab.research.google.com/github/Wiickz/MAT421/blob/main/HW1.ipynb\" target=\"_parent\"><img src=\"https://colab.research.google.com/assets/colab-badge.svg\" alt=\"Open In Colab\"/></a>"
      ]
    },
    {
      "cell_type": "markdown",
      "metadata": {
        "id": "j2C490PBqMyb"
      },
      "source": [
        "## Section 9.1: Base-N and Binary\n",
        "\n",
        "People are most familiar with the decimal (base-10) number system, where numbers are represented using the digits 0-9:"
      ]
    },
    {
      "cell_type": "code",
      "execution_count": null,
      "metadata": {
        "id": "aAEg2Q95qMyd"
      },
      "outputs": [],
      "source": [
        "for i in range(10):\n",
        "    print(i, end=\" \") #prints each (base-10) digit to the same row"
      ]
    },
    {
      "cell_type": "markdown",
      "metadata": {
        "id": "dQsvPIzrqMyd"
      },
      "source": [
        "Another commonly-used number system is binary (base-2), which reduces the used digits simply to either 0 or 1. This system is best used by machines rather than humans, as it's much easier for a machine to keep track of whether a certain voltage (digit) is on (1) or off (0) than it is to track specific voltage levels and translate each level to a digit.\n",
        "\n",
        "Converting decimal numbers to binary (or vice versa) can be rather tedious by hand, but nowadays many programming/scripting languages come with features to do that work in an instant:"
      ]
    },
    {
      "cell_type": "code",
      "execution_count": null,
      "metadata": {
        "id": "FBtuw9QZqMye"
      },
      "outputs": [],
      "source": [
        "number = 2025\n",
        "binary = bin(number) #converts number to its binary form\n",
        "print(binary) #prints the binary form of the number\n",
        "# This can also be done in reverse, converting a binary number to base-10\n",
        "base10 = int(binary, 2) #note the usage of int() with a second argument - this is the base of the number being converted\n",
        "print(base10) #prints the base-10 form of the binary number"
      ]
    },
    {
      "cell_type": "markdown",
      "metadata": {
        "id": "7HMs1IiUqMye"
      },
      "source": [
        "Other number systems do exist, and some are also commonly used (mainly in computing). A popular example is hexadecimal, which extends the digit system to use sixteen \"digits,\" some of which are represented by letters rather than numbers. Since sixteen is a power of two, hexadecimal is a popular method for shortening binary numbers:"
      ]
    },
    {
      "cell_type": "code",
      "execution_count": null,
      "metadata": {
        "id": "0hTeIEtZqMye"
      },
      "outputs": [],
      "source": [
        "number = 0b1111111111111111 #this is a binary number\n",
        "hexadecimal = hex(number) #converts the binary number to hexadecimal\n",
        "print(hexadecimal) #prints the hexadecimal form of the number - note the difference in length between the two representations"
      ]
    },
    {
      "cell_type": "markdown",
      "metadata": {
        "id": "pCa2VpmdqMyf"
      },
      "source": [
        "Regardless of the number system being used, arithmetic can be easily scripted with no modifications:"
      ]
    },
    {
      "cell_type": "code",
      "execution_count": null,
      "metadata": {
        "id": "pJooA2rTqMyf"
      },
      "outputs": [],
      "source": [
        "hex1 = 0x1f #base-10: 31\n",
        "hex2 = 0x2a #base-10: 42\n",
        "print(hex1 + hex2) #prints the sum of the two hexadecimal numbers in base-10\n",
        "print(hex1 * hex2, '\\n') #prints the product of the two hexadecimal numbers in base-10\n",
        "\n",
        "bin1 = 0b1010 #base-10: 10\n",
        "bin2 = 0b10101 #base-10: 21\n",
        "print(bin1 + bin2) #prints the sum of the two binary numbers in base-10\n",
        "print(bin1 * bin2) #prints the product of the two binary numbers in base-10"
      ]
    },
    {
      "cell_type": "markdown",
      "metadata": {
        "id": "WGB-eChZqMyg"
      },
      "source": [
        "## Section 9.2: Floating Point Numbers\n",
        "\n",
        "Standard binary number systems can only represent a relatively small number range, and unless bits are dedicated specifically to fractional values, they typically have very little (if any) precision. The IEEE 754 floating-point number standard addresses both of these problems: while a 64-bit (signed) binary integer can represent a maximum value of about 9.22 x 10^18, a 64-bit IEEE 754 \"double-precision\" float can represent numbers up to about 1.8 x 10^308 while still leaving plenty of bits for fractional precision."
      ]
    },
    {
      "cell_type": "code",
      "execution_count": null,
      "metadata": {
        "id": "wsAeivVnqMyh"
      },
      "outputs": [],
      "source": [
        "import sys\n",
        "print(sys.float_info) #prints information about the floating point representation used by the system"
      ]
    },
    {
      "cell_type": "markdown",
      "metadata": {
        "id": "XZd50PhtqMyi"
      },
      "source": [
        "Although IEEE 754 allows for great precision, not every decimal number can be represented by this standard. The distance between two floats where a number in between cannot be represented as a float is known as the float gap or spacing. Since the standard relies on powers of two, every time the number being represented doubles, so does the gap:"
      ]
    },
    {
      "cell_type": "code",
      "execution_count": null,
      "metadata": {
        "id": "y9A2dFTjqMyi"
      },
      "outputs": [],
      "source": [
        "import numpy as np\n",
        "print(np.spacing(1)) #prints the distance between 1 and the next largest number that can be represented\n",
        "print(np.spacing(2)) #repeat for 2 and its next largest number\n",
        "print(np.spacing(4)) #repeat for 4. observe the gap doubling each time"
      ]
    },
    {
      "cell_type": "markdown",
      "metadata": {
        "id": "bdskl24zqMyi"
      },
      "source": [
        "## Section 9.3: Round-off Errors\n",
        "\n",
        "As mentioned previously, the IEEE 754 float gap means that not every number can be represented with a float. This can lead to some unusual behavior when performing floating-point arithmetic:"
      ]
    },
    {
      "cell_type": "code",
      "execution_count": null,
      "metadata": {
        "id": "15yAKFUYqMyj"
      },
      "outputs": [],
      "source": [
        "print(0.1 + 0.2) #performs a very simple operation that any human can do. that means computers can do it too, right?"
      ]
    },
    {
      "cell_type": "markdown",
      "metadata": {
        "id": "TcwR4SE6qMyj"
      },
      "source": [
        "This error, although very small, can accumulate if several floating-point arithmetic operations are conducted:"
      ]
    },
    {
      "cell_type": "code",
      "execution_count": null,
      "metadata": {
        "id": "B5M0LjyiqMyj"
      },
      "outputs": [],
      "source": [
        "val = 1\n",
        "n = 100\n",
        "\n",
        "for i in range(n):\n",
        "    val += 0.2\n",
        "\n",
        "for i in range(n):\n",
        "    val -= 0.2\n",
        "\n",
        "print(val) #prints the final result - it should be 1\n",
        "#try increasing n to see how this result is apparently affected"
      ]
    }
  ],
  "metadata": {
    "kernelspec": {
      "display_name": "Python 3",
      "language": "python",
      "name": "python3"
    },
    "language_info": {
      "codemirror_mode": {
        "name": "ipython",
        "version": 3
      },
      "file_extension": ".py",
      "mimetype": "text/x-python",
      "name": "python",
      "nbconvert_exporter": "python",
      "pygments_lexer": "ipython3",
      "version": "3.13.1"
    },
    "colab": {
      "provenance": [],
      "include_colab_link": true
    }
  },
  "nbformat": 4,
  "nbformat_minor": 0
}