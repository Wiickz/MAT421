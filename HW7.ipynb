{
  "cells": [
    {
      "cell_type": "markdown",
      "metadata": {
        "id": "view-in-github",
        "colab_type": "text"
      },
      "source": [
        "<a href=\"https://colab.research.google.com/github/Wiickz/MAT421/blob/main/HW7.ipynb\" target=\"_parent\"><img src=\"https://colab.research.google.com/assets/colab-badge.svg\" alt=\"Open In Colab\"/></a>"
      ]
    },
    {
      "cell_type": "markdown",
      "metadata": {
        "id": "Q5atIzZvUArt"
      },
      "source": [
        "## Section 20.1: Numerical Differentiation Problem Statement\n",
        "\n",
        "This section merely states the goal of the remainder of the chapter: given a function *f(x)* that exists in a numerical grid (where discrete steps *h* exist between values of *x*), we would like to find ways to approximate the derivative of that function."
      ]
    },
    {
      "cell_type": "code",
      "execution_count": null,
      "metadata": {
        "id": "px0RKNwLUArv"
      },
      "outputs": [],
      "source": [
        "import numpy as np\n",
        "import matplotlib.pyplot as plt\n",
        "\n",
        "f = lambda x: x**3 - 6*x**2 + 11*x - 6\n",
        "df = lambda x: 3*x**2 - 12*x + 11\n",
        "x = np.linspace(0, 5, 10) # numerical grid with large h\n",
        "\n",
        "plt.figure()\n",
        "\n",
        "plt.plot(x, f(x), label='f(x)')\n",
        "plt.plot(x, df(x), label='f\\'(x)')\n",
        "plt.legend()\n",
        "\n",
        "plt.show()"
      ]
    },
    {
      "cell_type": "markdown",
      "metadata": {
        "id": "5aLL2-kmUArw"
      },
      "source": [
        "## Section 20.2: Finite Difference Approximating Derivatives\n",
        "\n",
        "As we know from the previous assignment, the true derivative of a continuous function is defined using the limit of the slope between two points as the distance between those points approaches zero, taken for every point along the function. When dealing in a discrete environment, this definition can be used to approximate the slope of a function at a point by using some combination of that point, the next point, and the previous point.\n",
        "\n",
        "### Difference Methods\n",
        "\n",
        "The **forward difference** method estimates the slope of a function at a point using that point and the next point ahead of itself. The **backward difference** method uses that point and the previous point behind it. The **central difference** method uses the forward and backward points in its calculation, excluding the point entirely."
      ]
    },
    {
      "cell_type": "code",
      "execution_count": null,
      "metadata": {
        "id": "cp4LNxDiUArw"
      },
      "outputs": [],
      "source": [
        "import numpy as np\n",
        "import matplotlib.pyplot as plt\n",
        "\n",
        "f = lambda x: x**3 - 6*x**2 + 11*x - 6\n",
        "df = lambda x: 3*x**2 - 12*x + 11\n",
        "x = np.linspace(0, 5, 10)\n",
        "h = x[1] - x[0]\n",
        "\n",
        "def forward_diff(f, x, h):\n",
        "    return (f(x + h) - f(x)) / h\n",
        "\n",
        "def backward_diff(f, x, h):\n",
        "    return (f(x) - f(x - h)) / h\n",
        "\n",
        "def central_diff(f, x, h):\n",
        "    return (f(x + h) - f(x - h)) / (2*h)\n",
        "\n",
        "plt.figure()\n",
        "\n",
        "plt.plot(x, f(x), label='f(x)')\n",
        "plt.plot(x, forward_diff(f, x, h), label='f\\'(x) forward')\n",
        "plt.plot(x, backward_diff(f, x, h), label='f\\'(x) backward')\n",
        "plt.plot(x, central_diff(f, x, h), label='f\\'(x) central')\n",
        "plt.plot(x, df(x), label='f\\'(x) true')\n",
        "\n",
        "# in this example, the central difference and true derivative are almost identical, causing some overlap when plotted\n",
        "# fortunately, the overlap varies just enough to see the difference (however, decreasing h would increase the overlap)\n",
        "\n",
        "plt.legend()\n",
        "plt.show()"
      ]
    },
    {
      "cell_type": "markdown",
      "metadata": {
        "id": "_NaAPkYPUArw"
      },
      "source": [
        "As seen in the output plot above, the forward difference tends to overestimate increases in slope and underestimate decreases, while the backward difference tends to do the opposite. The central difference tends to overestimate both increases and decreases, but does so with a much smaller level of error.\n",
        "\n",
        "## Section 20.3: Approximating of Higher-Order Derivatives\n",
        "\n",
        "Since the Taylor series makes use of higher-order derivatives in its approximation technique, it can be used to solve for higher-order derivatives. The example provided in the text gives such a solution for the second derivative of f(x), and resembles a combination of the forward and backward difference methods used in computing the first derivative:"
      ]
    },
    {
      "cell_type": "code",
      "execution_count": null,
      "metadata": {
        "id": "GW_ZMZF9UArx"
      },
      "outputs": [],
      "source": [
        "import numpy as np\n",
        "import matplotlib.pyplot as plt\n",
        "\n",
        "f = lambda x: x**4 - 6*x**2 + 11*x - 6\n",
        "df = lambda x: 4*x**3 - 12*x + 11\n",
        "ddf = lambda x: 12*x**2 - 12\n",
        "x = np.linspace(0, 5, 5)\n",
        "h = x[1] - x[0]\n",
        "\n",
        "def second_order_diff(f, x, h):\n",
        "    return (f(x + h) - 2*f(x) + f(x - h)) / h**2\n",
        "\n",
        "plt.figure()\n",
        "\n",
        "plt.plot(x, f(x), label='f(x)')\n",
        "plt.plot(x, second_order_diff(f, x, h), label='f\\'\\'(x) numerical')\n",
        "plt.plot(x, ddf(x), label='f\\'\\'(x) true')\n",
        "\n",
        "# in this example, even with the numerical grid reduced to 5 points, the numerical and true second derivative are almost identical\n",
        "# the overlap does vary slightly enough to see the difference, but decreasing h would rapidly increase the overlap\n",
        "\n",
        "plt.legend()\n",
        "plt.show()"
      ]
    }
  ],
  "metadata": {
    "kernelspec": {
      "display_name": "Python 3",
      "language": "python",
      "name": "python3"
    },
    "language_info": {
      "codemirror_mode": {
        "name": "ipython",
        "version": 3
      },
      "file_extension": ".py",
      "mimetype": "text/x-python",
      "name": "python",
      "nbconvert_exporter": "python",
      "pygments_lexer": "ipython3",
      "version": "3.13.2"
    },
    "colab": {
      "provenance": [],
      "include_colab_link": true
    }
  },
  "nbformat": 4,
  "nbformat_minor": 0
}