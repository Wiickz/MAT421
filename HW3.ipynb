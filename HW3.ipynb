{
  "cells": [
    {
      "cell_type": "markdown",
      "metadata": {
        "id": "view-in-github",
        "colab_type": "text"
      },
      "source": [
        "<a href=\"https://colab.research.google.com/github/Wiickz/MAT421/blob/main/HW3.ipynb\" target=\"_parent\"><img src=\"https://colab.research.google.com/assets/colab-badge.svg\" alt=\"Open In Colab\"/></a>"
      ]
    },
    {
      "cell_type": "markdown",
      "metadata": {
        "id": "oEdJZvrBI6qC"
      },
      "source": [
        "## Section 17.4: Lagrange Polynomial Interpolation\n",
        "This section and the next build off the previous assignment covering Sections 17.1-3. This specific method of interpolation improves on the cubic method by attempting to derive a single polynomial equation describing all the data points rather than just trying to connect each data point with individual curves. This process is achievable through two different methods in Python:"
      ]
    },
    {
      "cell_type": "code",
      "execution_count": null,
      "metadata": {
        "id": "QvVOOykAI6qE"
      },
      "outputs": [],
      "source": [
        "import numpy as np\n",
        "import numpy.polynomial.polynomial as poly\n",
        "import matplotlib.pyplot as plt\n",
        "\n",
        "x = np.linspace(0, 3, 4)\n",
        "y = np.array([0, 5, 6, -3])\n",
        "\n",
        "P1_coeff = [1, -11/6, 1, -1/6]\n",
        "P2_coeff = [0, 3, -5/2, 1/2]\n",
        "P3_coeff = [0, -3/2, 2, -1/2]\n",
        "P4_coeff = [0, 1/3, -1/2, 1/6]\n",
        "\n",
        "P1 = poly.Polynomial(P1_coeff)\n",
        "P2 = poly.Polynomial(P2_coeff)\n",
        "P3 = poly.Polynomial(P3_coeff)\n",
        "P4 = poly.Polynomial(P4_coeff)\n",
        "\n",
        "x_plot = np.linspace(0, 3.1, 100)\n",
        "\n",
        "plt.plot(x_plot, P1(x_plot), 'b', label='P1')\n",
        "plt.plot(x_plot, P2(x_plot), 'r', label='P2')\n",
        "plt.plot(x_plot, P3(x_plot), 'g', label='P3')\n",
        "\n",
        "plt.plot(x, np.ones(len(x)), 'ko', x, np.zeros(len(x)), 'ko')\n",
        "plt.grid()\n",
        "plt.legend()\n",
        "plt.show()\n",
        "\n",
        "L = 5*P2 + 6*P3 - 3*P4\n",
        "\n",
        "plt.figure()\n",
        "plt.plot(x_plot, L(x_plot), 'b')\n",
        "plt.plot(x, y, 'ro')\n",
        "plt.grid()\n",
        "plt.show()"
      ]
    },
    {
      "cell_type": "markdown",
      "metadata": {
        "id": "af2S_hOTI6qE"
      },
      "source": [
        "As seen above, this method, using NumPy's *polynomial.polynomial.Polynomial* function, achieves the single Lagrange equation and accurately describes the data, albeit with a fair bit of setup beforehand in manually calculating the basis polynomials. Fortunately, SciPy offers a more convenient *lagrange* function that performs the entire setup and calculation behind the scenes:"
      ]
    },
    {
      "cell_type": "code",
      "execution_count": null,
      "metadata": {
        "id": "OsQgXpkAI6qF"
      },
      "outputs": [],
      "source": [
        "import numpy as np\n",
        "from scipy.interpolate import lagrange\n",
        "import matplotlib.pyplot as plt\n",
        "\n",
        "x = np.linspace(0, 3, 4)\n",
        "y = np.array([0, 5, 6, -3])\n",
        "\n",
        "L = lagrange(x, y) #magic!\n",
        "\n",
        "x_plot = np.linspace(0, 3.1, 100)\n",
        "\n",
        "plt.plot(x_plot, L(x_plot), 'b')\n",
        "plt.plot(x, y, 'ro')\n",
        "plt.grid()\n",
        "\n",
        "plt.show()"
      ]
    },
    {
      "cell_type": "markdown",
      "metadata": {
        "id": "CAapkXvDI6qF"
      },
      "source": [
        "## Section 17.5: Newton's Polynomial Interpolation\n",
        "\n",
        "Similarly to the Lagrange interpolation, Newton's polynomial interpolation aims to represent the data as a single continuous polynomial function rather than a set of lines or curves. The calculations of the polynomial coefficients are performed using a sort of recursive method which yields a divided differences table, then used to trivially calculate the polynomial coefficients:"
      ]
    },
    {
      "cell_type": "code",
      "execution_count": null,
      "metadata": {
        "id": "3TNB9tKUI6qF"
      },
      "outputs": [],
      "source": [
        "import numpy as np\n",
        "import matplotlib.pyplot as plt\n",
        "\n",
        "def divided_diff(x, y):\n",
        "    n = len(y)\n",
        "    table = np.zeros((n, n))\n",
        "    table[:,0] = y\n",
        "    for j in range(1,n):\n",
        "        for i in range(n-j):\n",
        "            table[i,j] = (table[i+1,j-1] - table[i,j-1]) / (x[i+j] - x[i])\n",
        "    return table\n",
        "\n",
        "def newton_poly(coefs, x_data, x):\n",
        "    n = len(x_data) - 1\n",
        "    p = coefs[n]\n",
        "    for k in range(1, n+1):\n",
        "        p = coefs[n-k] + (x - x_data[n-k])*p\n",
        "    return p\n",
        "\n",
        "x = np.linspace(0, 3, 4)\n",
        "y = np.array([0, 5, 6, -3])\n",
        "\n",
        "table = divided_diff(x, y)\n",
        "coefs = table[0,:]\n",
        "\n",
        "x_plot = np.linspace(0, 3.1, 100)\n",
        "y_plot = newton_poly(coefs, x, x_plot)\n",
        "\n",
        "plt.plot(x_plot, y_plot, 'b')\n",
        "plt.plot(x, y, 'ro')\n",
        "plt.grid()\n",
        "\n",
        "plt.show()"
      ]
    },
    {
      "cell_type": "markdown",
      "metadata": {
        "id": "5kaNJak1I6qG"
      },
      "source": [
        "While this method, using NumPy, does require some code setup to be done by the user, SciPy does not have a corresponding function to perform the Newton polynomial derivation. Thus, the above code is one of the simplest means of programmatically modeling a data set using Newton's polynomial interpolation."
      ]
    }
  ],
  "metadata": {
    "kernelspec": {
      "display_name": "Python 3",
      "language": "python",
      "name": "python3"
    },
    "language_info": {
      "codemirror_mode": {
        "name": "ipython",
        "version": 3
      },
      "file_extension": ".py",
      "mimetype": "text/x-python",
      "name": "python",
      "nbconvert_exporter": "python",
      "pygments_lexer": "ipython3",
      "version": "3.13.1"
    },
    "colab": {
      "provenance": [],
      "include_colab_link": true
    }
  },
  "nbformat": 4,
  "nbformat_minor": 0
}