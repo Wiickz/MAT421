{
  "cells": [
    {
      "cell_type": "markdown",
      "metadata": {
        "id": "view-in-github",
        "colab_type": "text"
      },
      "source": [
        "<a href=\"https://colab.research.google.com/github/Wiickz/MAT421/blob/main/HW2.ipynb\" target=\"_parent\"><img src=\"https://colab.research.google.com/assets/colab-badge.svg\" alt=\"Open In Colab\"/></a>"
      ]
    },
    {
      "cell_type": "markdown",
      "metadata": {
        "id": "IE_eeQpslTdw"
      },
      "source": [
        "## Section 17.1: Interpolation Problem Statement\n",
        "This section does not contain any true \"work\" per se, but still acts as an important setup for the coming sections. When given a set of data, it is helpful to have a function that accurately describes the data at all of its points:"
      ]
    },
    {
      "cell_type": "code",
      "execution_count": null,
      "metadata": {
        "id": "GICarX2clTdx"
      },
      "outputs": [],
      "source": [
        "import numpy as np\n",
        "import matplotlib.pyplot as plt\n",
        "\n",
        "plt.figure(1)\n",
        "\n",
        "data = [0, 5, 6, -3] #example data set\n",
        "plt.subplot(311)\n",
        "plt.plot(data, 'bo')\n",
        "\n",
        "x = np.arange(0, 3.1, 0.1) #domain\n",
        "def f(x):\n",
        "    return -x**3 + x**2 + 5*x\n",
        "plt.subplot(312)\n",
        "plt.plot(x, f(x), 'r--')\n",
        "\n",
        "plt.subplot(313)\n",
        "plt.plot(data, 'bo')\n",
        "plt.plot(x, f(x), 'r--')\n",
        "\n",
        "plt.show()\n"
      ]
    },
    {
      "cell_type": "markdown",
      "metadata": {
        "id": "uKKFrO0elTdy"
      },
      "source": [
        "As seen above, data sets with unclear correlation can still be defined with an estimation function. However, this function can be extended beyond the given data to attempt an educated guess at what data in between existing points may look like. This is known as *interpolation*, and using the estimation function to perform accurate interpolation is the main goal of this chapter."
      ]
    },
    {
      "cell_type": "markdown",
      "metadata": {
        "id": "ayr5bdmFlTdy"
      },
      "source": [
        "## Section 17.2: Linear Interpolation\n",
        "Linear interpolation is a good starting point for interpolating data within a set - while crude, a function is still defined across the entire set and can be used to interpolate between data points."
      ]
    },
    {
      "cell_type": "code",
      "execution_count": null,
      "metadata": {
        "id": "XSNZfdmclTdz"
      },
      "outputs": [],
      "source": [
        "from scipy.interpolate import interp1d\n",
        "import matplotlib.pyplot as plt\n",
        "\n",
        "x = np.linspace(0, 3, 4)\n",
        "y = np.array([0, 5, 6, -3])\n",
        "\n",
        "f = interp1d(x, y)\n",
        "y_hat = f(1.5)\n",
        "print(y_hat)\n",
        "\n",
        "plt.plot(x, y, '-ob')\n",
        "plt.plot(1.5, y_hat, 'ro')\n",
        "plt.show()"
      ]
    },
    {
      "cell_type": "markdown",
      "metadata": {
        "id": "mkgvOmX7lTdz"
      },
      "source": [
        "Such a linear interpolation is demonstrated above using the same data set from Section 17.1. While the \"curve\" of the previous estimation function is still somewhat present, things are simplified heavily by simply assuming that data between any two points takes the form of a straight line, and interpolates based on that assumption. Even though the data points in this example are close together on both the x- and y-axes, the linear interpolation still yields a somewhat different result than what we are considering our \"true\" estimation function yields:"
      ]
    },
    {
      "cell_type": "code",
      "execution_count": null,
      "metadata": {
        "id": "WvZLgHI3lTd0"
      },
      "outputs": [],
      "source": [
        "import numpy as np\n",
        "import matplotlib.pyplot as plt\n",
        "\n",
        "data = [0, 5, 6, -3] #example data set\n",
        "plt.plot(data, 'bo')\n",
        "\n",
        "x = np.arange(0, 3.1, 0.1) #domain\n",
        "def f(x):\n",
        "    return -x**3 + x**2 + 5*x\n",
        "interp = f(1.5)\n",
        "print(interp)\n",
        "print('Difference: ' + str(interp - 5.5))\n",
        "plt.plot(1.5, interp, 'ro')\n",
        "plt.plot(x, f(x), 'b')\n",
        "plt.show()"
      ]
    },
    {
      "cell_type": "markdown",
      "metadata": {
        "id": "0sgvPMQTlTd0"
      },
      "source": [
        "## Section 17.3: Cubic Spline Interpolation\n",
        "This method of interpolation quite literally introduces curves to the equation: by assuming that the points are joined by cubic polynomials rather than lines, we can generate a smoother curve that still precisely estimates the known data while more accurately interpolating between it. This comes at a cost of computation time: since each junction of two points requires its own cubic function with four unknown coefficients, a total of 4(n-1) unknowns must be calculated for a data set of size n. Fortunately, this is trivialized in practice thanks to SciPy:"
      ]
    },
    {
      "cell_type": "code",
      "execution_count": null,
      "metadata": {
        "id": "999nLng6lTd1"
      },
      "outputs": [],
      "source": [
        "from scipy.interpolate import CubicSpline\n",
        "import numpy as np\n",
        "import matplotlib.pyplot as plt\n",
        "\n",
        "x = np.linspace(0, 3, 4)\n",
        "y = np.array([0, 5, 6, -3])\n",
        "\n",
        "f = CubicSpline(x, y, bc_type='natural')\n",
        "x_new = np.linspace(0, 3, 100)\n",
        "y_new = f(x_new)\n",
        "interp = f(1.5)\n",
        "print(interp)\n",
        "print('Difference from true value: ' + str(interp - 6.375))\n",
        "\n",
        "plt.plot(x_new, y_new, 'b')\n",
        "plt.plot(x, y, 'bo')\n",
        "plt.plot(1.5, interp, 'ro')\n",
        "plt.show()"
      ]
    },
    {
      "cell_type": "markdown",
      "metadata": {
        "id": "aNH36K7slTd1"
      },
      "source": [
        "Once again, some difference exists between the cubic interpolation and the \"true\" estimation function, however it is much smaller than the difference between the linear and \"true\" functions."
      ]
    }
  ],
  "metadata": {
    "kernelspec": {
      "display_name": "Python 3",
      "language": "python",
      "name": "python3"
    },
    "language_info": {
      "codemirror_mode": {
        "name": "ipython",
        "version": 3
      },
      "file_extension": ".py",
      "mimetype": "text/x-python",
      "name": "python",
      "nbconvert_exporter": "python",
      "pygments_lexer": "ipython3",
      "version": "3.13.1"
    },
    "colab": {
      "provenance": [],
      "include_colab_link": true
    }
  },
  "nbformat": 4,
  "nbformat_minor": 0
}