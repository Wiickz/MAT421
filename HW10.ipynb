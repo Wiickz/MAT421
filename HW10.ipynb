{
  "cells": [
    {
      "cell_type": "markdown",
      "metadata": {
        "id": "view-in-github",
        "colab_type": "text"
      },
      "source": [
        "<a href=\"https://colab.research.google.com/github/Wiickz/MAT421/blob/main/HW10.ipynb\" target=\"_parent\"><img src=\"https://colab.research.google.com/assets/colab-badge.svg\" alt=\"Open In Colab\"/></a>"
      ]
    },
    {
      "cell_type": "markdown",
      "metadata": {
        "id": "ul9iEKtGzjvk"
      },
      "source": [
        "## Section 22.1: ODE Initial Value Problem Statement\n",
        "\n",
        "Ordinary differential equations (ODEs) are differential equations with only one independent value (as an example, the function *y = f(x)*). These differential equations create simpler scenarios, but are still capable of modeling various real-world phenomena such as projectile motion. When solving ODEs, it's common that the first result is a function *g(x)* that still contains unknown variables/coefficients - known as a general solution - and in order to solve for those missing values and find a/the particular solution, a set of initial conditions is typically provided, which is just enough info to solve for the particular equation(s)."
      ]
    },
    {
      "cell_type": "code",
      "execution_count": null,
      "metadata": {
        "id": "PU_CmgLjzjvn"
      },
      "outputs": [],
      "source": [
        "import numpy as np\n",
        "import matplotlib.pyplot as plt\n",
        "\n",
        "# first order ODE y' + ycos(t) = 0\n",
        "# general solution y = C*exp(-sin(t))\n",
        "# with initial condition y(0) = a, we have C = a\n",
        "\n",
        "y = lambda a, t: a * np.exp(-np.sin(t)) # to illustrate different initial conditions\n",
        "\n",
        "t = np.linspace(0, 10, 100)\n",
        "for a in np.linspace(1, 5, 5):\n",
        "    plt.plot(t, y(a, t), label=f'a={int(a)}')\n",
        "plt.legend()\n",
        "plt.xlabel('t')\n",
        "plt.ylabel('y')\n",
        "plt.title('First order ODE y\\' + ycos(t) = 0')\n",
        "plt.show()"
      ]
    },
    {
      "cell_type": "markdown",
      "metadata": {
        "id": "HVJ5T_Aazjvp"
      },
      "source": [
        "# Section 22.2: Reduction of Order\n",
        "\n",
        "For first-order ODEs with less obvious solutions than the one above, it's usually helpful to employ the use of pre-written ODE solvers such as SciPy's `integrate.solve_ivp()` function:"
      ]
    },
    {
      "cell_type": "code",
      "execution_count": null,
      "metadata": {
        "id": "So4C8tQPzjvp"
      },
      "outputs": [],
      "source": [
        "import scipy.integrate as spi\n",
        "import numpy as np\n",
        "import matplotlib.pyplot as plt\n",
        "\n",
        "# first order ODE y' = ysin(y)\n",
        "# initial condition y(0) = 1\n",
        "\n",
        "def f(t, y):\n",
        "    return y * np.sin(y)\n",
        "\n",
        "t = np.linspace(0, 10, 100)\n",
        "y0 = 1\n",
        "sol = spi.solve_ivp(f, (0, 10), [y0], t_eval=t)\n",
        "plt.plot(sol.t, sol.y[0])\n",
        "plt.xlabel('t')\n",
        "plt.ylabel('y')\n",
        "plt.title('First order ODE y\\' = ysin(y), y(0) = 1')\n",
        "plt.show()"
      ]
    },
    {
      "cell_type": "markdown",
      "metadata": {
        "id": "IBRaUkP2zjvp"
      },
      "source": [
        "However, this function and many others are only designed to handle first-order ODEs. In order to handle higher-order ODEs, they must first be converted to first-order and then plugged in. Fortunately, a method exists in which a set of higher-order equations can be represented as a single state equation whose derivative can be taken to create a new (first-order) ODE:"
      ]
    },
    {
      "cell_type": "code",
      "execution_count": null,
      "metadata": {
        "id": "KfMQktwbzjvq"
      },
      "outputs": [],
      "source": [
        "import scipy.integrate as spi\n",
        "import numpy as np\n",
        "import matplotlib.pyplot as plt\n",
        "\n",
        "# system of two ODEs\n",
        "# r' = 4r - 2s, s' = r + s\n",
        "# initial condition r(0) = 4, s(0) = 2\n",
        "\n",
        "# represent the system as a state equation S(t) = [r(t), s(t)]\n",
        "# then, S(t)' = [r'(t), s'(t)] = [4r - 2s, r + s] = [ [4, -2], [1, 1] ] * S(t)\n",
        "# now we can use solve_ivp to solve the system\n",
        "\n",
        "A = np.array([[4, -2], [1, 1]])\n",
        "def f(t, S):\n",
        "    return A @ S\n",
        "\n",
        "t = np.linspace(0, 5, 100)\n",
        "S0 = np.array([4, 2])\n",
        "\n",
        "sol = spi.solve_ivp(f, (0, 5), S0, t_eval=t)\n",
        "plt.plot(sol.t, sol.y[0], label='r')\n",
        "plt.plot(sol.t, sol.y[1], label='s')\n",
        "plt.legend()\n",
        "plt.xlabel('t')\n",
        "plt.ylabel('r, s')\n",
        "plt.title('System of two ODEs r\\' = 4r - 2s, s\\' = r + s, r(0) = 4, s(0) = 2')\n",
        "plt.show()"
      ]
    },
    {
      "cell_type": "markdown",
      "metadata": {
        "id": "GLeL1Q3rzjvq"
      },
      "source": [
        "## Section 22.3: The Euler Method\n",
        "\n",
        "Suppose we have solved for this first-order differential state equation, and knowing the value of the current state, wish to evaluate a future state. This evaluation can be approximated by representing the value of the next state as the sum of the current state value plus the product of the value of the differential equation at that point and the spacing between the two points in time. This is known as Euler's explicit formula and can be used repeatedly to graph the state for all values of interest, thus yielding an approximation of the ODE's solution:"
      ]
    },
    {
      "cell_type": "code",
      "execution_count": null,
      "metadata": {
        "id": "GoQLnjVwzjvq"
      },
      "outputs": [],
      "source": [
        "import scipy.integrate as spi\n",
        "import numpy as np\n",
        "import matplotlib.pyplot as plt\n",
        "\n",
        "t = np.linspace(0, 5, 100)\n",
        "S = np.zeros((100, 2))\n",
        "S[0] = [4, 2]\n",
        "A = np.array([[4, -2], [1, 1]])\n",
        "dS = np.zeros((100, 2))\n",
        "dS[0] = A @ S[0]\n",
        "for i in range(1, 100):\n",
        "    S[i] = S[i-1] + dS[i-1] * (t[i] - t[i-1]) # euler's explicit formula\n",
        "    dS[i] = A @ S[i]\n",
        "\n",
        "sol = spi.solve_ivp(f, (0, 5), S[0], t_eval=t) # exact solution\n",
        "\n",
        "plt.figure()\n",
        "\n",
        "plt.plot(sol.t, sol.y[0], label='r')\n",
        "plt.plot(sol.t, sol.y[1], label='s')\n",
        "\n",
        "plt.plot(t, S[:, 0], label='r_euler')\n",
        "plt.plot(t, S[:, 1], label='s_euler')\n",
        "\n",
        "plt.legend()\n",
        "plt.xlabel('t')\n",
        "plt.ylabel('r, s')\n",
        "plt.title('System of two ODEs r\\' = 4r - 2s, s\\' = r + s, r(0) = 4, s(0) = 2')\n",
        "plt.show()\n",
        "\n",
        "# decreasing h\n",
        "t = np.linspace(0, 5, 1000)\n",
        "S = np.zeros((1000, 2))\n",
        "S[0] = [4, 2]\n",
        "dS = np.zeros((1000, 2))\n",
        "dS[0] = A @ S[0]\n",
        "for i in range(1, 1000):\n",
        "    S[i] = S[i-1] + dS[i-1] * (t[i] - t[i-1]) # euler's explicit formula\n",
        "    dS[i] = A @ S[i]\n",
        "\n",
        "sol = spi.solve_ivp(f, (0, 5), S[0], t_eval=t) # exact solution\n",
        "\n",
        "plt.figure()\n",
        "\n",
        "plt.plot(sol.t, sol.y[0], label='r')\n",
        "plt.plot(sol.t, sol.y[1], label='s')\n",
        "\n",
        "plt.plot(t, S[:, 0], label='r_euler')\n",
        "plt.plot(t, S[:, 1], label='s_euler')\n",
        "\n",
        "plt.legend()\n",
        "plt.xlabel('t')\n",
        "plt.ylabel('r, s')\n",
        "plt.title('Same system, h decreased by factor of 10')\n",
        "plt.show()\n"
      ]
    },
    {
      "cell_type": "markdown",
      "metadata": {
        "id": "1kgEJ5_Xzjvr"
      },
      "source": [
        "As demonstrated above, the Euler approximation is highly dependent on the number of data points available. Increasing the number of points (and thus decreasing the spacing) yields a much more accurate result."
      ]
    }
  ],
  "metadata": {
    "kernelspec": {
      "display_name": "Python 3",
      "language": "python",
      "name": "python3"
    },
    "language_info": {
      "codemirror_mode": {
        "name": "ipython",
        "version": 3
      },
      "file_extension": ".py",
      "mimetype": "text/x-python",
      "name": "python",
      "nbconvert_exporter": "python",
      "pygments_lexer": "ipython3",
      "version": "3.13.2"
    },
    "colab": {
      "provenance": [],
      "include_colab_link": true
    }
  },
  "nbformat": 4,
  "nbformat_minor": 0
}